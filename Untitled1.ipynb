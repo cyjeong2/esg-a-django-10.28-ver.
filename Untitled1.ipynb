{
 "cells": [
  {
   "cell_type": "code",
   "execution_count": 2,
   "id": "8d4289fd",
   "metadata": {},
   "outputs": [],
   "source": [
    "import os\n",
    "import django\n",
    "\n",
    "os.environ.setdefault('DJANGO_SETTINGS_MODULE', 'do_it_django_prj.settings')\n",
    "os.environ[\"DJANGO_ALLOW_ASYNC_UNSAFE\"] = \"true\"\n",
    "\n",
    "django.setup()\n",
    "\n",
    "from diary.models import Memory\n",
    "\n"
   ]
  },
  {
   "cell_type": "code",
   "execution_count": 3,
   "id": "61d2975a",
   "metadata": {},
   "outputs": [
    {
     "data": {
      "text/plain": [
       "<Memory: Memory object (1)>"
      ]
     },
     "execution_count": 3,
     "metadata": {},
     "output_type": "execute_result"
    }
   ],
   "source": [
    "#데이터베이스에 즉시 저장\n",
    "Memory.objects.create(title=\"title#1\", content=\"content#1\")\n",
    "\n",
    "memory = Memory()\n",
    "memory.title = \"title#2\"\n",
    "memory.content = \"content#2\"\n",
    "memory.save() # save 호출 시점에 저장\n",
    "\n",
    "memory = Memory.objects.get(pk=1) # 지정 조건, 즉시 조회\n",
    "memory\n"
   ]
  },
  {
   "cell_type": "code",
   "execution_count": 15,
   "id": "9ce80c01",
   "metadata": {},
   "outputs": [
    {
     "name": "stdout",
     "output_type": "stream",
     "text": [
      "100\n"
     ]
    }
   ],
   "source": [
    "# bulk create\n",
    "\n",
    "memory_list = []\n",
    "\n",
    "for i in range(100) :\n",
    "    title = f\"new title #{i}\"\n",
    "    content = f\"new content #{i}\"\n",
    "    memory = Memory(title=title, content=content)\n",
    "    memory_list.append(memory)\n",
    "    # memory.save() # 반복문에서 성능을 위해, 매번 save를 호출하지 않습니다.\n",
    "    \n",
    "\n",
    "print(len(memory_list))"
   ]
  },
  {
   "cell_type": "code",
   "execution_count": 6,
   "id": "ee6d4603",
   "metadata": {},
   "outputs": [
    {
     "data": {
      "text/plain": [
       "9"
      ]
     },
     "execution_count": 6,
     "metadata": {},
     "output_type": "execute_result"
    }
   ],
   "source": [
    "Memory.objects.bulk_create(memory_list)\n",
    "\n",
    "Memory.objects.all().count()"
   ]
  },
  {
   "cell_type": "code",
   "execution_count": 9,
   "id": "008464e5",
   "metadata": {},
   "outputs": [
    {
     "name": "stdout",
     "output_type": "stream",
     "text": [
      "4\n"
     ]
    }
   ],
   "source": [
    "qs = Memory.objects.filter(title__icontains=\"1\")\n",
    "# qs = qs.filter(...)\n",
    "print(qs.count())"
   ]
  },
  {
   "cell_type": "code",
   "execution_count": 10,
   "id": "8b887765",
   "metadata": {},
   "outputs": [
    {
     "name": "stdout",
     "output_type": "stream",
     "text": [
      "9 new title #99\n",
      "7 new title #99\n",
      "5 new title #99\n",
      "1 new title #99\n"
     ]
    }
   ],
   "source": [
    "for memory in qs:\n",
    "    print(memory.pk, title)\t"
   ]
  },
  {
   "cell_type": "code",
   "execution_count": null,
   "id": "b026c96a",
   "metadata": {},
   "outputs": [],
   "source": []
  }
 ],
 "metadata": {
  "kernelspec": {
   "display_name": "Python 3 (ipykernel)",
   "language": "python",
   "name": "python3"
  },
  "language_info": {
   "codemirror_mode": {
    "name": "ipython",
    "version": 3
   },
   "file_extension": ".py",
   "mimetype": "text/x-python",
   "name": "python",
   "nbconvert_exporter": "python",
   "pygments_lexer": "ipython3",
   "version": "3.10.8"
  }
 },
 "nbformat": 4,
 "nbformat_minor": 5
}
